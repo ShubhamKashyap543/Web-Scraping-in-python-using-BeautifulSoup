{
 "cells": [
  {
   "cell_type": "markdown",
   "id": "45154005",
   "metadata": {},
   "source": [
    "# Importing libraries"
   ]
  },
  {
   "cell_type": "code",
   "execution_count": 4,
   "id": "66f57923",
   "metadata": {},
   "outputs": [],
   "source": [
    "from bs4 import BeautifulSoup\n",
    "import requests\n",
    "import pandas as pd"
   ]
  },
  {
   "cell_type": "markdown",
   "id": "c4cae957",
   "metadata": {},
   "source": [
    "# In this section we are going to use request and Beautifulsoup libarary to scrape top 250 movies of IMDb"
   ]
  },
  {
   "cell_type": "markdown",
   "id": "cfe6ad44",
   "metadata": {},
   "source": [
    "### Url is the Website page link from where we have to scrape the data"
   ]
  },
  {
   "cell_type": "code",
   "execution_count": 32,
   "id": "5e243adf",
   "metadata": {},
   "outputs": [],
   "source": [
    "url = \"https://www.imdb.com/chart/top/\""
   ]
  },
  {
   "cell_type": "markdown",
   "id": "99f94c28",
   "metadata": {},
   "source": [
    "## Sending the HTTp request to url server and then storing the response object in response variable"
   ]
  },
  {
   "cell_type": "code",
   "execution_count": 33,
   "id": "ad4301bf",
   "metadata": {},
   "outputs": [],
   "source": [
    "response = requests.get(url)"
   ]
  },
  {
   "cell_type": "markdown",
   "id": "dba767d8",
   "metadata": {},
   "source": [
    "Let's see what we got into response object. The response object is basically the html file which in response server has send back to us"
   ]
  },
  {
   "cell_type": "code",
   "execution_count": 82,
   "id": "354276b7",
   "metadata": {
    "scrolled": false
   },
   "outputs": [],
   "source": [
    "# print(response.text)"
   ]
  },
  {
   "cell_type": "markdown",
   "id": "5751931c",
   "metadata": {},
   "source": [
    "### Now the above format is very messy so let's try to use our BeautifulSoup library to parse this object into proper suitable html format"
   ]
  },
  {
   "cell_type": "code",
   "execution_count": 37,
   "id": "b9555b46",
   "metadata": {},
   "outputs": [],
   "source": [
    "soup = BeautifulSoup(response.text, 'html.parser')"
   ]
  },
  {
   "cell_type": "code",
   "execution_count": 83,
   "id": "1414f92d",
   "metadata": {
    "scrolled": true
   },
   "outputs": [],
   "source": [
    "# print(soup.prettify())"
   ]
  },
  {
   "cell_type": "markdown",
   "id": "cc6d87e6",
   "metadata": {},
   "source": [
    "## Let's try to find the titles of movies on the website"
   ]
  },
  {
   "cell_type": "code",
   "execution_count": 63,
   "id": "58d2a245",
   "metadata": {},
   "outputs": [],
   "source": [
    "titles = soup.find_all(\"td\", {\"class\" :\"titleColumn\"})"
   ]
  },
  {
   "cell_type": "code",
   "execution_count": 79,
   "id": "e5fd6efe",
   "metadata": {},
   "outputs": [],
   "source": [
    "movie_title = []\n",
    "for title in titles:\n",
    "    movie_title.append(title.text)"
   ]
  },
  {
   "cell_type": "markdown",
   "id": "cfd9b893",
   "metadata": {},
   "source": [
    "### Now let's try to find reviews of movies on the website"
   ]
  },
  {
   "cell_type": "code",
   "execution_count": 65,
   "id": "dbb7b977",
   "metadata": {},
   "outputs": [],
   "source": [
    "reviews = soup.find_all(\"td\", {\"class\" :\"ratingColumn imdbRating\"})"
   ]
  },
  {
   "cell_type": "code",
   "execution_count": 80,
   "id": "1e3dd2f6",
   "metadata": {},
   "outputs": [],
   "source": [
    "movie_reviews = []\n",
    "for review in reviews:\n",
    "    movie_reviews.append(review.text)"
   ]
  },
  {
   "cell_type": "markdown",
   "id": "907334e5",
   "metadata": {},
   "source": [
    "### Storing the data into Pandas DataFrame"
   ]
  },
  {
   "cell_type": "code",
   "execution_count": 67,
   "id": "5c9cfc9b",
   "metadata": {},
   "outputs": [],
   "source": [
    "dictionary = {\"Movie Name\" : movie_title,\n",
    "              \"Movie Reviews\" : movie_reviews}"
   ]
  },
  {
   "cell_type": "code",
   "execution_count": 68,
   "id": "c692c5c3",
   "metadata": {},
   "outputs": [],
   "source": [
    "df = pd.DataFrame(dictionary)"
   ]
  },
  {
   "cell_type": "code",
   "execution_count": 70,
   "id": "24c1c21c",
   "metadata": {
    "scrolled": true
   },
   "outputs": [
    {
     "data": {
      "text/html": [
       "<div>\n",
       "<style scoped>\n",
       "    .dataframe tbody tr th:only-of-type {\n",
       "        vertical-align: middle;\n",
       "    }\n",
       "\n",
       "    .dataframe tbody tr th {\n",
       "        vertical-align: top;\n",
       "    }\n",
       "\n",
       "    .dataframe thead th {\n",
       "        text-align: right;\n",
       "    }\n",
       "</style>\n",
       "<table border=\"1\" class=\"dataframe\">\n",
       "  <thead>\n",
       "    <tr style=\"text-align: right;\">\n",
       "      <th></th>\n",
       "      <th>Movie Name</th>\n",
       "      <th>Movie Reviews</th>\n",
       "    </tr>\n",
       "  </thead>\n",
       "  <tbody>\n",
       "    <tr>\n",
       "      <th>0</th>\n",
       "      <td>\\n      1.\\n      The Shawshank Redemption\\n(1...</td>\n",
       "      <td>\\n9.2\\n</td>\n",
       "    </tr>\n",
       "    <tr>\n",
       "      <th>1</th>\n",
       "      <td>\\n      2.\\n      The Godfather\\n(1972)\\n</td>\n",
       "      <td>\\n9.2\\n</td>\n",
       "    </tr>\n",
       "    <tr>\n",
       "      <th>2</th>\n",
       "      <td>\\n      3.\\n      The Dark Knight\\n(2008)\\n</td>\n",
       "      <td>\\n9.0\\n</td>\n",
       "    </tr>\n",
       "    <tr>\n",
       "      <th>3</th>\n",
       "      <td>\\n      4.\\n      The Godfather Part II\\n(1974)\\n</td>\n",
       "      <td>\\n9.0\\n</td>\n",
       "    </tr>\n",
       "    <tr>\n",
       "      <th>4</th>\n",
       "      <td>\\n      5.\\n      12 Angry Men\\n(1957)\\n</td>\n",
       "      <td>\\n9.0\\n</td>\n",
       "    </tr>\n",
       "    <tr>\n",
       "      <th>...</th>\n",
       "      <td>...</td>\n",
       "      <td>...</td>\n",
       "    </tr>\n",
       "    <tr>\n",
       "      <th>245</th>\n",
       "      <td>\\n      246.\\n      The Iron Giant\\n(1999)\\n</td>\n",
       "      <td>\\n8.0\\n</td>\n",
       "    </tr>\n",
       "    <tr>\n",
       "      <th>246</th>\n",
       "      <td>\\n      247.\\n      Aladdin\\n(1992)\\n</td>\n",
       "      <td>\\n8.0\\n</td>\n",
       "    </tr>\n",
       "    <tr>\n",
       "      <th>247</th>\n",
       "      <td>\\n      248.\\n      The Help\\n(2011)\\n</td>\n",
       "      <td>\\n8.0\\n</td>\n",
       "    </tr>\n",
       "    <tr>\n",
       "      <th>248</th>\n",
       "      <td>\\n      249.\\n      Gandhi\\n(1982)\\n</td>\n",
       "      <td>\\n8.0\\n</td>\n",
       "    </tr>\n",
       "    <tr>\n",
       "      <th>249</th>\n",
       "      <td>\\n      250.\\n      Du rififi chez les hommes\\...</td>\n",
       "      <td>\\n8.0\\n</td>\n",
       "    </tr>\n",
       "  </tbody>\n",
       "</table>\n",
       "<p>250 rows × 2 columns</p>\n",
       "</div>"
      ],
      "text/plain": [
       "                                            Movie Name Movie Reviews\n",
       "0    \\n      1.\\n      The Shawshank Redemption\\n(1...       \\n9.2\\n\n",
       "1            \\n      2.\\n      The Godfather\\n(1972)\\n       \\n9.2\\n\n",
       "2          \\n      3.\\n      The Dark Knight\\n(2008)\\n       \\n9.0\\n\n",
       "3    \\n      4.\\n      The Godfather Part II\\n(1974)\\n       \\n9.0\\n\n",
       "4             \\n      5.\\n      12 Angry Men\\n(1957)\\n       \\n9.0\\n\n",
       "..                                                 ...           ...\n",
       "245       \\n      246.\\n      The Iron Giant\\n(1999)\\n       \\n8.0\\n\n",
       "246              \\n      247.\\n      Aladdin\\n(1992)\\n       \\n8.0\\n\n",
       "247             \\n      248.\\n      The Help\\n(2011)\\n       \\n8.0\\n\n",
       "248               \\n      249.\\n      Gandhi\\n(1982)\\n       \\n8.0\\n\n",
       "249  \\n      250.\\n      Du rififi chez les hommes\\...       \\n8.0\\n\n",
       "\n",
       "[250 rows x 2 columns]"
      ]
     },
     "execution_count": 70,
     "metadata": {},
     "output_type": "execute_result"
    }
   ],
   "source": [
    "df"
   ]
  },
  {
   "cell_type": "markdown",
   "id": "3a81a045",
   "metadata": {},
   "source": [
    "### In above DataFrame unwanted \\n is coming up so let's try to clean a dataset little bit"
   ]
  },
  {
   "cell_type": "code",
   "execution_count": 74,
   "id": "4d805c35",
   "metadata": {},
   "outputs": [],
   "source": [
    "df.replace(\"\\n\",\"\", regex=True, inplace=True)"
   ]
  },
  {
   "cell_type": "code",
   "execution_count": 75,
   "id": "830877a2",
   "metadata": {},
   "outputs": [
    {
     "data": {
      "text/html": [
       "<div>\n",
       "<style scoped>\n",
       "    .dataframe tbody tr th:only-of-type {\n",
       "        vertical-align: middle;\n",
       "    }\n",
       "\n",
       "    .dataframe tbody tr th {\n",
       "        vertical-align: top;\n",
       "    }\n",
       "\n",
       "    .dataframe thead th {\n",
       "        text-align: right;\n",
       "    }\n",
       "</style>\n",
       "<table border=\"1\" class=\"dataframe\">\n",
       "  <thead>\n",
       "    <tr style=\"text-align: right;\">\n",
       "      <th></th>\n",
       "      <th>Movie Name</th>\n",
       "      <th>Movie Reviews</th>\n",
       "    </tr>\n",
       "  </thead>\n",
       "  <tbody>\n",
       "    <tr>\n",
       "      <th>0</th>\n",
       "      <td>1.      The Shawshank Redemption(1994)</td>\n",
       "      <td>9.2</td>\n",
       "    </tr>\n",
       "    <tr>\n",
       "      <th>1</th>\n",
       "      <td>2.      The Godfather(1972)</td>\n",
       "      <td>9.2</td>\n",
       "    </tr>\n",
       "    <tr>\n",
       "      <th>2</th>\n",
       "      <td>3.      The Dark Knight(2008)</td>\n",
       "      <td>9.0</td>\n",
       "    </tr>\n",
       "    <tr>\n",
       "      <th>3</th>\n",
       "      <td>4.      The Godfather Part II(1974)</td>\n",
       "      <td>9.0</td>\n",
       "    </tr>\n",
       "    <tr>\n",
       "      <th>4</th>\n",
       "      <td>5.      12 Angry Men(1957)</td>\n",
       "      <td>9.0</td>\n",
       "    </tr>\n",
       "    <tr>\n",
       "      <th>...</th>\n",
       "      <td>...</td>\n",
       "      <td>...</td>\n",
       "    </tr>\n",
       "    <tr>\n",
       "      <th>245</th>\n",
       "      <td>246.      The Iron Giant(1999)</td>\n",
       "      <td>8.0</td>\n",
       "    </tr>\n",
       "    <tr>\n",
       "      <th>246</th>\n",
       "      <td>247.      Aladdin(1992)</td>\n",
       "      <td>8.0</td>\n",
       "    </tr>\n",
       "    <tr>\n",
       "      <th>247</th>\n",
       "      <td>248.      The Help(2011)</td>\n",
       "      <td>8.0</td>\n",
       "    </tr>\n",
       "    <tr>\n",
       "      <th>248</th>\n",
       "      <td>249.      Gandhi(1982)</td>\n",
       "      <td>8.0</td>\n",
       "    </tr>\n",
       "    <tr>\n",
       "      <th>249</th>\n",
       "      <td>250.      Du rififi chez les hommes(1955)</td>\n",
       "      <td>8.0</td>\n",
       "    </tr>\n",
       "  </tbody>\n",
       "</table>\n",
       "<p>250 rows × 2 columns</p>\n",
       "</div>"
      ],
      "text/plain": [
       "                                          Movie Name Movie Reviews\n",
       "0             1.      The Shawshank Redemption(1994)           9.2\n",
       "1                        2.      The Godfather(1972)           9.2\n",
       "2                      3.      The Dark Knight(2008)           9.0\n",
       "3                4.      The Godfather Part II(1974)           9.0\n",
       "4                         5.      12 Angry Men(1957)           9.0\n",
       "..                                               ...           ...\n",
       "245                   246.      The Iron Giant(1999)           8.0\n",
       "246                          247.      Aladdin(1992)           8.0\n",
       "247                         248.      The Help(2011)           8.0\n",
       "248                           249.      Gandhi(1982)           8.0\n",
       "249        250.      Du rififi chez les hommes(1955)           8.0\n",
       "\n",
       "[250 rows x 2 columns]"
      ]
     },
     "execution_count": 75,
     "metadata": {},
     "output_type": "execute_result"
    }
   ],
   "source": [
    "df"
   ]
  },
  {
   "cell_type": "markdown",
   "id": "1361cf4f",
   "metadata": {},
   "source": [
    "### Now once the data is in data frame we can store it anywhere or in any format however we want i'll leave this upto you for sake of completeness i am storing it as an excel file"
   ]
  },
  {
   "cell_type": "code",
   "execution_count": 81,
   "id": "24653d56",
   "metadata": {},
   "outputs": [],
   "source": [
    "df.to_excel(\"Top 250 movies on IMDb.xlsx\", index=False)"
   ]
  },
  {
   "cell_type": "code",
   "execution_count": null,
   "id": "14ca925b",
   "metadata": {},
   "outputs": [],
   "source": []
  }
 ],
 "metadata": {
  "kernelspec": {
   "display_name": "Python 3 (ipykernel)",
   "language": "python",
   "name": "python3"
  },
  "language_info": {
   "codemirror_mode": {
    "name": "ipython",
    "version": 3
   },
   "file_extension": ".py",
   "mimetype": "text/x-python",
   "name": "python",
   "nbconvert_exporter": "python",
   "pygments_lexer": "ipython3",
   "version": "3.9.7"
  }
 },
 "nbformat": 4,
 "nbformat_minor": 5
}
